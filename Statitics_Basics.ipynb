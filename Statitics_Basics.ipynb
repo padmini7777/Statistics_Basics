{
  "nbformat": 4,
  "nbformat_minor": 0,
  "metadata": {
    "colab": {
      "provenance": []
    },
    "kernelspec": {
      "name": "python3",
      "display_name": "Python 3"
    },
    "language_info": {
      "name": "python"
    }
  },
  "cells": [
    {
      "cell_type": "markdown",
      "source": [
        "#Statistics Basics"
      ],
      "metadata": {
        "id": "VO-g5y0941jU"
      }
    },
    {
      "cell_type": "markdown",
      "source": [
        "###1.What is statistics, and why is it important?"
      ],
      "metadata": {
        "id": "7tvaqVa241mU"
      }
    },
    {
      "cell_type": "markdown",
      "source": [
        "Ans- Statistics is the mathematical science of collecting, analyzing, interpreting, and presenting data. It is important because it enables data-driven decision-making in fields like healthcare, economics, and social sciences."
      ],
      "metadata": {
        "id": "pQxZrh8j41qc"
      }
    },
    {
      "cell_type": "markdown",
      "source": [
        "###2.What are two main type of statistics?"
      ],
      "metadata": {
        "id": "HYWs9RPt5k8Y"
      }
    },
    {
      "cell_type": "markdown",
      "source": [
        "Ans-Two main type of statistics are:\n",
        "- Descriptive statistics (which summarizes data, e.g., mean, graphs).\n",
        "\n",
        "- Inferential statistics (it draws conclusions about populations using samples, e.g., hypothesis testing)."
      ],
      "metadata": {
        "id": "XqYoREUf5xCM"
      }
    },
    {
      "cell_type": "markdown",
      "source": [
        "###3.What are Descriptive statistics?"
      ],
      "metadata": {
        "id": "RmHdI-kO5w-i"
      }
    },
    {
      "cell_type": "markdown",
      "source": [
        "Ans-Its is the Methods to summarize data (e.g., mean, median, mode, standard deviation, histograms).\n",
        "\n"
      ],
      "metadata": {
        "id": "8Luqtncl5w6L"
      }
    },
    {
      "cell_type": "markdown",
      "source": [
        "###4.What is inferential statistics?"
      ],
      "metadata": {
        "id": "I3zssxTH5w2M"
      }
    },
    {
      "cell_type": "markdown",
      "source": [
        "Ans- It Uses sample data to make predictions or inferences about a population (e.g., confidence intervals, regression)."
      ],
      "metadata": {
        "id": "Nffg-o555wwy"
      }
    },
    {
      "cell_type": "markdown",
      "source": [
        "###5.What are sampling in statistics?"
      ],
      "metadata": {
        "id": "WEkMKs7H5wtk"
      }
    },
    {
      "cell_type": "markdown",
      "source": [
        "Ans- kind of Selecting a subset of a population to analyze. Reduces cost and time compared to studying the entire population."
      ],
      "metadata": {
        "id": "ZK0fIrdQ5wqj"
      }
    },
    {
      "cell_type": "markdown",
      "source": [
        "###6.What are different types of sampling mathods?"
      ],
      "metadata": {
        "id": "pLTIqopm5wmV"
      }
    },
    {
      "cell_type": "markdown",
      "source": [
        "Ans- There are two types of sampling mathods\n",
        "- Random: Simple random, stratified, systematic.\n",
        "\n",
        "- Non-random: Convenience, quota, purposive."
      ],
      "metadata": {
        "id": "B3cbebZB5wil"
      }
    },
    {
      "cell_type": "markdown",
      "source": [
        "###7.What are difference between random and non-random sampling?"
      ],
      "metadata": {
        "id": "Sja2QEHg5wfD"
      }
    },
    {
      "cell_type": "markdown",
      "source": [
        "Ans- Difference between random and non-random sampling\n",
        "\n",
        "- Random: Every member has an equal chance (e.g., lottery).\n",
        "\n",
        "- Non-random: Selection bias (e.g., surveying people in a mall)."
      ],
      "metadata": {
        "id": "wj_ufBUs5wab"
      }
    },
    {
      "cell_type": "markdown",
      "source": [
        "###8.Define and give examples of qualitative and quantitative data."
      ],
      "metadata": {
        "id": "cNhj7mPc5wXD"
      }
    },
    {
      "cell_type": "markdown",
      "source": [
        "Ans-\n",
        "- Qualitative: Which is Categories (e.g., \"apple\", \"orange\").\n",
        "\n",
        "- Quantitative: Which is Numerical wise (e.g., height: 160 cm, 170 cm)."
      ],
      "metadata": {
        "id": "JP2ZsONK5tf1"
      }
    },
    {
      "cell_type": "markdown",
      "source": [
        "###9. What are different types of data in statistics?"
      ],
      "metadata": {
        "id": "NeeDCVDw9Wda"
      }
    },
    {
      "cell_type": "markdown",
      "source": [
        "Ans- There are two type of data in statistics:\n",
        "- Categorical (nominal, ordinal).\n",
        "\n",
        "- Numerical (discrete, continuous)."
      ],
      "metadata": {
        "id": "h7xPID5d9WZk"
      }
    },
    {
      "cell_type": "markdown",
      "source": [
        "###10.Explain nominal, ordinal, interval and ratio levels of measurement."
      ],
      "metadata": {
        "id": "2kxMzHuz9WWj"
      }
    },
    {
      "cell_type": "markdown",
      "source": [
        "Ans- Levels of measurement:\n",
        "\n",
        "- Nominal: Categories without order (e.g., gender).\n",
        "\n",
        "- Ordinal: Ordered categories (e.g., education level).\n",
        "\n",
        "- Interval: Equal intervals, no true zero (e.g., Celsius temperature).\n",
        "\n",
        "- Ratio: True zero (e.g., weight in kg)."
      ],
      "metadata": {
        "id": "XO-1UJES9WST"
      }
    },
    {
      "cell_type": "markdown",
      "source": [
        "###11. What are the measure of central tendency?"
      ],
      "metadata": {
        "id": "cOUe31zn9WPT"
      }
    },
    {
      "cell_type": "markdown",
      "source": [
        "Ans- Measure of central tendency are -\n",
        "Mean, median, mode. Which indicates the \"center\" of a dataset."
      ],
      "metadata": {
        "id": "MxRbxWj99WL6"
      }
    },
    {
      "cell_type": "markdown",
      "source": [
        "###12. Define mean, median and mode."
      ],
      "metadata": {
        "id": "YpxtGPd79WIK"
      }
    },
    {
      "cell_type": "markdown",
      "source": [
        "Ans- Defination of-\n",
        "- Mean: Average (sum of values / count).\n",
        "\n",
        "- Median: Middle value when data is sorted.\n",
        "\n",
        "- Mode: Most frequent value."
      ],
      "metadata": {
        "id": "N-bK6XhI9WCr"
      }
    },
    {
      "cell_type": "markdown",
      "source": [
        "###13. What is the significance of the measure of central tendency?"
      ],
      "metadata": {
        "id": "xlXAOCWq9V_6"
      }
    },
    {
      "cell_type": "markdown",
      "source": [
        "ANs- It Provides a single value representing the dataset, and  simplifying analysis."
      ],
      "metadata": {
        "id": "qdYpBPX29V8b"
      }
    },
    {
      "cell_type": "markdown",
      "source": [
        "###14.What is the variance, and how is it calculated?"
      ],
      "metadata": {
        "id": "1aWVyGbP9V3J"
      }
    },
    {
      "cell_type": "markdown",
      "source": [
        "Ans- Variance is a statistical measure that quantifies the spread or dispersion of a set of data points around their mean. It indicates how far individual values in a dataset deviate from the average value.\n",
        "![image.png](data:image/png;base64,iVBORw0KGgoAAAANSUhEUgAAATEAAAByCAIAAAC0vHFJAAAOP0lEQVR4Ae1dq7qzOhA9j4apQqFQqCpUVVUVCoWq4gFQqCpUFQqFqqqqqkKhUJxvEi6Bht4IbfrvVbE3t0wmK1lMMpmE/2r8gAAQ0AmB/3RSBroAASBQg5NoBEBALwTASb3qA9oAAXASbQAI6IUAOKlXfUAbIABOog0AAb0QACf1qg9oAwTASbQBIKAXAuCkXvUBbYAAOIk2AAT0QgCc1Ks+oA0QACfRBoCAXgiAk3rVB7QBAuAk2gAQ0AsBcFKv+oA2QACcRBsAAnohAE7qVR/QBgiAk2gDQEAvBMBJveoD2gABcBJtAAjohQA4qVd9QBsgAE6iDQABvRAAJ/WqD2gDBMBJtAEgoBcC4KRe9QFtgAA4iTYABPRCAJzUqz6gDRAAJ9EGgIBeCICTetUHtAEC4CTaABDQCwFwUq/6gDZAAJxEG/jjCJSpv3b9KI581zJWTpCXXwYEnPxyBSD77yJQJBvLzyuuRJlsDcNwD8VXdQInvwr/rMyLeG28/zOD/E7u1Tla217WtNU7D/7GrUu8njCAqUcQehkvR6UDKcHJ32hUUi2rzDMZKc2H7KnKoriesjjcOquGx6Y/ScpLtF6to4s00x+9WKaeaXrpTb+0yqPdLuz6q+nu+4YSnPzRNtaofQmdhpW3zW2qZNX16NnMOqTSR/LA/Hr/TarYzItUrnV8902T+yb6rjNhRvL6EjU92G1yYwTuwMOSbY+3ndPz3jbs/flOUs1uURdA+ivHhWPDxTujRXrBmZvDXdZ+oPCwkx8AeeEsioPLu6OvdTfLdGfeNFDebOPvOjlewusS8Z5C0yMX/jm3vW+ygxMDada53SbXlzJf5GFwchFYPyyU6MUa42usvByD+DQwJqyBb5PBtQ+XZdnsqP9qSLoHl6h3AlU3BnZZncbSwckxIr95Tm95xsoJK/BcqRglb2znc2l/5CnmZ/WGA+ky9Tb7U9vzT3e74e1Plwyc/DTii+XHTIBhGDLv4nOZsk6wNTmWrK55HPq+HyZn1retrmkU+H54vH7XrhbnI+kRRClXpDgnoe8HcS7rgbMyii+uMg9s2/X89rdbu+F3R5Tg5HPN9Seeat095u55J6xYsIzm6iZ6rpfDxnb8OMvzY7A2jPU+8izbS/Is3jz0Zop5KD4u88CxN2GS53m0NQ3Ti/ZraxOmWeo7hnSKiL261nE7bmRlFgah0wgo1nxaHDg5jc0P3mlZ+cjnLy3alcUgjPp1/Mnz3u6Hqo1XxY2Lukg2rD1LE0kzUXqxTLZWP+fIp//ZtOuJho2GIfHy1Ex70VAq1UiFMHBSBYoayeDhYYZh9Bx6VjvWWmXNuEg2YoDBeW+11oRz0vLHAT9V+Qk/ySkw6cXQ/HgMDu96M06upJOR/LEvvURaXe/+ByfvwvOLNzt3z6uzjJOcLM/ZqWv6NTenMu62aDFGSJyb7f26PGfHJ3/ZufW9dKm7g+spu/RDWd4LfUw2mZenE6nDATipQy0o1qFh5auWksUE3eMaU1M0RxN6l6c4StsBm+wZRZwciBas9+D6zQk4eQMJLiyOAJv+7sdZz+Y3aScHAviorQ3aHtz65glT3uh9N5O6oO86CQ1uLIXA2wHk0z4esmtNJ5LPuIjO2dMhOPZG8XqKo3ZSYqkSdnKvp+PxxPLmsUziPE6R7kcBETwZIy98PB2GOFgagTdNJFdrYi6kiFnsHuvV8h6i08/glcm29/9c4s0uOWe+aTwe1s1HggWMGywrbvwMYbL/vLcF/4+QGXupaB0XgfGkUF0/f/i2ieQln4gZYFRlTswy9cjlarScrM7hWpiMyP1dUtYk5RN2iJt1lj2Vm/RqOVmknjUxmp4oo05V/y4nq4vEcyY45+q6Lk5D15roI9MJgn9FlzdM5HjK4hzasqVK1ORtd7dzbdtLi0u8XhmWu/O3juX4oi+HBYqSVf0EJeua3hArZ+tvHXMdX4iHBp2SmpuoC5UbVS8Nh3vDPrqpx+m7nLweNpZlWe36WGNFZ0GzWpsXLQv6+yvTsjaHftQxp/DFcUsTwnZ4miPlX0v7hoksDu54uoSRUhwstjCxBVH9nOPotH2qrtmUvDisE24tcUiKjNQSzm9zpJ6r5pSs3+VkU9pmqCENmGCPEAZOeO5nkW5hevUKd/zJgzRelfWPPP+GiSQrY96Sh1WofCD2FFZEajs811UeJxquwaQhKKmn9W8mJ9nggXryEwWlKlY+nr4cto61/v7+YrpULDOR99fPj1UtssA2jFtK1nVNb9Gx+Rwnnzwnpyb5gsrEu7vdz6SARW+wGKfXln4vqs+E8LmcrKsjbfU1QUqqonvxHBNK4fLzCNCgasKdIRVSXdJwwxw1ckrWNdvl580XKaV1/Mh3/fei4KUqq7pIbxv9GVnP7bvWdUdKyUuXOjKgpKomJZNDMefk1wiiZOhQa88SWsXEfjvXscxu/G9MWEmeyRuDU56Q2kN5d0DXPffhg3e69x9Wsc1utp2k3g5tLCTxZp1DWzqc5uvwtmvLstbbbjVeq1Hjr2WN6XCuS7Y4rl8bx5y57GaY9TGYdc0W0VG7sxx31z3eCW38xLT+j6WrihNbdEer7oSYye75uq4uaRRMKlmzxYN0e729zU0Qs+Bht20d66i8+kfyDhV0/TN7SQpl1uVQBScnSJkHpoySzLW3cqMT7Wt0zaONaRjCHFddk7+2eaFvPVqkF9OCPcPYJMXgphCZWaW7Fb0UUrZX0pltyzZcFcD8xNxKOGF62DibMMmyLNm7pmQVcJnTcMvchOmZJB5JujguZtMB5ibKr0Uhy02X2oUev4iAEk7WPLqDh1S0KOS+xK1XN6sKxEe5mR31cds9Eqn/3yzSY5xk0vlNgZPNwtT+CvcHjx1PTbTH4BUgiZPkixDbeXHu3qeXQhObwje/Ed0gPLd7Q7Ai2dFk0dO/Hb1/8PubCKjhZM2MHy2q6zYnzH1zTAmOcHmKAz9IhO0V2D633VbU/ClOlTYwYzgLxZelDuZfrmno+1G3c25dc9qOQ5L5NEpPXcqrianutmBpnFYiw8o88v2wmR3ny2V7xpIMHlIiJuGlEP6yGT3ploeSi/2MmyABh38EAUWcbGjS7RxBDXvY9CV4VuX1RNFAexZOOYyQ5JycEHHnZlUW5/x4PMY78i2O04/5R0qNrjW2dMg5QfnGgK+D1ovC/rMifCZ6RdAFh/8kAqo4WfP+WzPqIkpOTzxX12Pg2iuj9Rgq4WSRxzvadp+CwPwwfpuTjYEes7mrfE5hw90POMlO7i2/7dIrO3jVp4PnX0VAWVW9KEgZJ7voATcuKM53qiNHPmly0m6TbrezkaViJbhjCtsBnkCbZhua9b7bqkyeXpbT6NojTtIkVz+2fB5t9F2fx+qPP6mOk91Epe15rjCwHALMGWAFYqxqx4rqkrWB6nJONbJGNxsabcS9+ftHitOxi43vchKUGl97QLpmuCnp297bqhc+HgFxHN5HQCEnO1IOfD3D7Bv6DMaO/bVL5LTGr+fUUAA7G93krGpT8uf7a6nXOkxvxo7s0TEnW3/VKOKjiN3GZ8VJO8yupr673Kcl0R+XgMAdBFRycjp6oFeAey2FDUiL1LNXNP23Scrz3nIPBevlZQH5aKwgI6+k4IYUbjr7E7/VzJX0pouW9TGZVnCiNbcUekkJrwe28+HmcGUJmazRNaYp7wqbm7iLnS9Sz+k30+D3hZ4yfUjHevi9uR4FHAGBaQTUcpJHD8giBXoNrqnf+WKaFXhs6ZthGHyanxsucUAu2KTxTX6rPEUshlNYPseX+RGvGZcaY9xLdaLLWJbgpq2uR66l6bhb1zbt0deW+vs05WiatqfDx196kHH0wwgo5mR9OQbBUZh7nICGmaiRARSs4USq+5cbmYJVHS/ZvZ/+9u6tlsNnHt0fPo0zIPAUAqo5+VSmeAgIvIwA+5LtSrv98l4ux+ME4ORjjPDE9xAoTkdacNB98X3gHfyeWovmDE4uCi+Ez0TgfPDpi1lJnu7Zp1/ByZmAIjkQUIVAP2OmSqK2cmAnta0aKCYiAE6KaOD4jyJQsm+rtl+AbVZ5s67kxDLwJXECJ5dEF7J/AoFLtKbFL4Fj0Hat12Rn07dXsyyjb6/KP7e6ZLnAySXRhewfQKA6Np8caAIrrG0fFMGXq33Y2wJO/kCrgYpLIpB6fDUo59/wI+R8Vwlwcin84eNZCtnflns9se9Vsa9rjDad5Nf66GJpQemLV0/++IexpFKEi7CTAhg4/MMIsG1ZhvsnyGh6ixA4eYvJs1dgJ59F6i8+x5elDb4fwik5pOknoIGd/ATKyEN3BPhgcrBjhLghYJVH4tdgly0NOLksvpD+EwhIeqn8El+83blmP1IYcPIjMCMTvRFg0yDDXmrvcq1y31q/9uGgt0rbrIe7pj77yAlbjz5a5/6WXI0TYTypceV8VzVumUZTHnwH+PXWtZ2PfNisMY/9WvT2aKTXd6FSmzs4qRbPf0naxNd4mOWauwD9X8JJdVnASdWIQh4QmIcAODkPP6QGAqoRACdVIwp5QGAeAuDkPPyQGgioRgCcVI0o5AGBeQiAk/PwQ2ogoBoBcFI1opAHBOYhAE7Oww+pgYBqBMBJ1YhCHhCYhwA4OQ8/pAYCqhEAJ1UjCnlAYB4C4OQ8/JAaCKhGAJxUjSjkAYF5CICT8/BDaiCgGgFwUjWikAcE5iEATs7DD6mBgGoEwEnViEIeEJiHADg5Dz+kBgKqEQAnVSMKeUBgHgLg5Dz8kBoIqEYAnFSNKOQBgXkIgJPz8ENqIKAaAXBSNaKQBwTmIQBOzsMPqYGAagTASdWIQh4QmIcAODkPP6QGAqoRACdVIwp5QGAeAuDkPPyQGgioRuB/8rNoRjxxkPAAAAAASUVORK5CYII=)\n"
      ],
      "metadata": {
        "id": "EXRwdy0C9V0K"
      }
    },
    {
      "cell_type": "markdown",
      "source": [
        "###15.What is standard deviation, and why is it important?"
      ],
      "metadata": {
        "id": "hzJeMe5k9VxC"
      }
    },
    {
      "cell_type": "markdown",
      "source": [
        "Ans- Standard deviation is the Square root of variance. Measures spread in original units. Critical for risk assessment."
      ],
      "metadata": {
        "id": "k3IqJLUl9Vty"
      }
    },
    {
      "cell_type": "markdown",
      "source": [
        "###16.Define and explain the term range in statistics."
      ],
      "metadata": {
        "id": "_mxNUmnR9Vqa"
      }
    },
    {
      "cell_type": "markdown",
      "source": [
        "Ans- It is the Difference between the maximum and minimum values in a dataset."
      ],
      "metadata": {
        "id": "DI36tzFB9VmK"
      }
    },
    {
      "cell_type": "markdown",
      "source": [
        "###17. What is the diffence between varience and standard deviation?"
      ],
      "metadata": {
        "id": "S3pJZttN9ViS"
      }
    },
    {
      "cell_type": "markdown",
      "source": [
        "Ans- Variance is in squared units, Standard Deviation in original units. SD is more interpretable."
      ],
      "metadata": {
        "id": "5CzvyChu9Veq"
      }
    },
    {
      "cell_type": "markdown",
      "source": [
        "###18. What is skewness in a dataset?"
      ],
      "metadata": {
        "id": "bUplEDqg9Vay"
      }
    },
    {
      "cell_type": "markdown",
      "source": [
        "Ans- Skewness in a data set is the Measure of asymmetry. Positive skew: Right tail longer. Negative skew: Left tail longer."
      ],
      "metadata": {
        "id": "0OTDDK2q9VWq"
      }
    },
    {
      "cell_type": "markdown",
      "source": [
        "###19. What does it mean if a dataset is positively or negatively skewed?"
      ],
      "metadata": {
        "id": "L9Mz-9mx9VS7"
      }
    },
    {
      "cell_type": "markdown",
      "source": [
        "Ans- Positively vs negatively skewed:\n",
        "\n",
        "- Positive skew: Mean > median (e.g., income distribution).\n",
        "\n",
        "- Negative skew: Mean < median (e.g., age at retirement)."
      ],
      "metadata": {
        "id": "7tZt9hNL9VPC"
      }
    },
    {
      "cell_type": "markdown",
      "source": [
        "###20.  Define and explain kurtosis?"
      ],
      "metadata": {
        "id": "jffluDIo9Rty"
      }
    },
    {
      "cell_type": "markdown",
      "source": [
        "Ans- It Measures \"tailedness.\" High kurtosis = heavy tails (more outliers).\n",
        "\n"
      ],
      "metadata": {
        "id": "ucU3w8E9HvBd"
      }
    },
    {
      "cell_type": "markdown",
      "source": [
        "###21.What is the purpose of covarince?"
      ],
      "metadata": {
        "id": "PPKPp4jLHxFF"
      }
    },
    {
      "cell_type": "markdown",
      "source": [
        "Ans- It Measures how two variables change together. Indicates direction of relationship."
      ],
      "metadata": {
        "id": "t3dbhuZiHxCW"
      }
    },
    {
      "cell_type": "markdown",
      "source": [
        "###22. What does correlation measure in statistics?"
      ],
      "metadata": {
        "id": "vO0gkPRVHw8e"
      }
    },
    {
      "cell_type": "markdown",
      "source": [
        "Ans- It Measures strength and direction of a linear relationship between variables (range: -1 to 1)."
      ],
      "metadata": {
        "id": "Ae1DSuIpHw5t"
      }
    },
    {
      "cell_type": "markdown",
      "source": [
        "###23. What is difference between covariance and correlation?"
      ],
      "metadata": {
        "id": "t5b9nBHpHwlH"
      }
    },
    {
      "cell_type": "markdown",
      "source": [
        "Ans- Covariance is scale-dependent; correlation is standardized (unitless)."
      ],
      "metadata": {
        "id": "zFPhYzJ9HwhB"
      }
    },
    {
      "cell_type": "markdown",
      "source": [
        "###24.What are some real-world applications of statistics?"
      ],
      "metadata": {
        "id": "jYgZ06xqHwdO"
      }
    },
    {
      "cell_type": "markdown",
      "source": [
        "Ans- Real-world applications:\n",
        "Clinical trials, market research, sports analytics, weather forecasting."
      ],
      "metadata": {
        "id": "z8iEMjMMHv_-"
      }
    },
    {
      "cell_type": "markdown",
      "source": [
        "#PRACTICAL QUESTION"
      ],
      "metadata": {
        "id": "1uscNn58JJTF"
      }
    },
    {
      "cell_type": "markdown",
      "source": [
        "###1.What do you calculate the mean, median, and mode of a dataset?"
      ],
      "metadata": {
        "id": "b5S9SXjjJZJt"
      }
    },
    {
      "cell_type": "markdown",
      "source": [
        "Ans-We Calculate mean, median, mode as:\n",
        "\n",
        "Mean  =\n",
        "\n",
        "![image.png](data:image/png;base64,iVBORw0KGgoAAAANSUhEUgAAADkAAAAwCAIAAAAkdUUaAAADAklEQVRoBe2YLROjMBCG+9NiqlBVKBSqqioqKqoKheIHRKFQKFQUKgqFQqFQUVF7w3fbISRwMDe9KQo2JHnysrske4HvuS7fgwo/1nM+1k/Xn67/lw/kwc328kJxztfvR7XQtWI+QshnlYZDybrIGPGuCDnPM2EtWAF6WjcsNbS9WRahf8WZWn3pbxqtWAFkihFCDuVydTKZYnIerCUrgOTUQcghBlol5WnCWrOOtMiPdY6rl1xVImYsKxsAVXPGYlHvWNEGVgAoQ3c1zBZpqxjjuGiaIvKQ79NQFJy6iOaLL68Zt7GOYeZF1to2KQmG5MAJQjhVMn0g5EZDoKqc3h7pehgMC9jKClDFbQpzgmJNgrltdmAROOieNG2TevEA1dSdbe6iu9vOClAzX59tdRNBxTx0+0x7SjaNdTBuZ63Yw5S63njrIitqgCa5o8lJqywrAVQeRTzBk/Wt28LDRtY6JQ/tD2xheKhbj/HjunNSr+8qOaVtFi6FUGXk3uMTfEBy6pkknd2zJ1c5de9hEuBnmlLXo3EcPEhUjLEkAgenL867tNzJZq9rZeOl4on76JkmaCNp+j8o+e6d4ungTIoksUorFy8Q4yJfx/+4t5EUGk6dIdA/umseVYZdwqI4tyAAgAtClGuGmswmSZUseb/R2oTajq9e09c04fKNWdduI3B1dHtY54rmazPqMpTGavbXNgVaXtaZUgNjMBtYZ8nOvzOQwq+WYVRo3wvm2No37hm9rHLWGRPvGPOrdN2xvn/VxZCzNmDJMovj7kgFqhYpi1i661Sln/Io1iYhNCvYHbn4SQgTdVNnxEGHlgsOYq0YDstu6z8XaNqDwLBj1Wu1peUg1m7bp9qCx7QT6p7sN6cW0AexdjNxisbDHwC0T4eiHvmPLcPb/M1VhlHnrQ1Pcsszikna43RtT1bOWAqAfFC1DB9jJcCEYmw/jpXT15JmW0W4PyNCdlSUdNDHsYL62L5+Hq50CNb2A1mt59z74o91r3Lr/X66ruuzt/WbdP0DT92Thg3RFqsAAAAASUVORK5CYII=)\n",
        "\n",
        "Median: Middle value after sorting.\n",
        "\n",
        "Mode: Most frequent value."
      ],
      "metadata": {
        "id": "PsxeY1wpN9fu"
      }
    },
    {
      "cell_type": "code",
      "source": [
        "#mean\n",
        "a = [1, 3, 3, 4, 5]\n",
        "import numpy as np\n",
        "np.mean(a)"
      ],
      "metadata": {
        "colab": {
          "base_uri": "https://localhost:8080/"
        },
        "id": "NhlQYF4i1nMB",
        "outputId": "5a4a3344-293d-4cc4-83fc-2196e3ea71eb"
      },
      "execution_count": 3,
      "outputs": [
        {
          "output_type": "execute_result",
          "data": {
            "text/plain": [
              "np.float64(3.2)"
            ]
          },
          "metadata": {},
          "execution_count": 3
        }
      ]
    },
    {
      "cell_type": "code",
      "source": [
        "#median\n",
        "np.median(a)"
      ],
      "metadata": {
        "colab": {
          "base_uri": "https://localhost:8080/"
        },
        "id": "JMIqeWgY3UIk",
        "outputId": "5f4e7e63-aa7e-4515-9bf1-b23f4b9354df"
      },
      "execution_count": 4,
      "outputs": [
        {
          "output_type": "execute_result",
          "data": {
            "text/plain": [
              "np.float64(3.0)"
            ]
          },
          "metadata": {},
          "execution_count": 4
        }
      ]
    },
    {
      "cell_type": "code",
      "source": [
        "#mode\n",
        "from scipy import stats\n",
        "stats.mode(a)"
      ],
      "metadata": {
        "colab": {
          "base_uri": "https://localhost:8080/"
        },
        "id": "XHjA2wHQ3eCp",
        "outputId": "b0e83662-12ce-4da8-b60e-456ddd99b226"
      },
      "execution_count": 5,
      "outputs": [
        {
          "output_type": "execute_result",
          "data": {
            "text/plain": [
              "ModeResult(mode=np.int64(3), count=np.int64(2))"
            ]
          },
          "metadata": {},
          "execution_count": 5
        }
      ]
    },
    {
      "cell_type": "markdown",
      "source": [
        "###2. Write a Python program to compute the variance and standard deviation of a dataset."
      ],
      "metadata": {
        "id": "sK4C-BpVOq1F"
      }
    },
    {
      "cell_type": "code",
      "source": [
        "import numpy as np\n",
        "data = [2, 4, 6, 8, 10]\n",
        "variance = np.var(data, ddof=1)\n",
        "std_dev = np.std(data, ddof=1)\n",
        "print(f\"Variance: {variance}, SD: {std_dev}\")"
      ],
      "metadata": {
        "colab": {
          "base_uri": "https://localhost:8080/"
        },
        "id": "_yxJZlDtKEJu",
        "outputId": "7d9a4cef-828a-4eca-cdc2-110de47ac9cf"
      },
      "execution_count": null,
      "outputs": [
        {
          "output_type": "stream",
          "name": "stdout",
          "text": [
            "Variance: 10.0, SD: 3.1622776601683795\n"
          ]
        }
      ]
    },
    {
      "cell_type": "markdown",
      "source": [
        "###3. Create a dataset and classify it into nominal, ordinal, interval, and ratio types."
      ],
      "metadata": {
        "id": "1xHINmfPPCx5"
      }
    },
    {
      "cell_type": "markdown",
      "source": [
        "Ans- Classification of dataset:\n",
        "\n",
        "- Nominal: [\"Apple\", \"Banana\", \"Cherry\"]\n",
        "\n",
        "- Ordinal: [\"Low\", \"Medium\", \"High\"]\n",
        "\n",
        "- Interval: [20°C, 25°C, 30°C]\n",
        "\n",
        "- Ratio: [50 kg, 60 kg, 70 kg]"
      ],
      "metadata": {
        "id": "I3AP9rYcPRce"
      }
    },
    {
      "cell_type": "markdown",
      "source": [
        "###4.Implement sampling techniques like random sampling and stratified sampling."
      ],
      "metadata": {
        "id": "qEVjf_H7Pivk"
      }
    },
    {
      "cell_type": "markdown",
      "source": [
        "- Random sampling:"
      ],
      "metadata": {
        "id": "6QdpQRySP0q9"
      }
    },
    {
      "cell_type": "code",
      "source": [
        "import random\n",
        "population = list(range(100))\n",
        "sample = random.sample(population, 10)"
      ],
      "metadata": {
        "id": "l35Ac3MlPI1k"
      },
      "execution_count": 6,
      "outputs": []
    },
    {
      "cell_type": "markdown",
      "source": [
        "- Stratified sampling: Split data into groups (strata) and sample each."
      ],
      "metadata": {
        "id": "QUNpoxOyPwPe"
      }
    },
    {
      "cell_type": "markdown",
      "source": [
        "###5. Write a Python function to calculate the range of a dataset."
      ],
      "metadata": {
        "id": "OSeo5qCBP5Id"
      }
    },
    {
      "cell_type": "code",
      "source": [
        "def data_range(data):\n",
        "    return max(data) - min(data)"
      ],
      "metadata": {
        "id": "UyO6TKe7P_xN"
      },
      "execution_count": null,
      "outputs": []
    },
    {
      "cell_type": "markdown",
      "source": [
        "###6. Create a dataset and plot its histogram to visualize skewness."
      ],
      "metadata": {
        "id": "PfuNBPPiQHze"
      }
    },
    {
      "cell_type": "code",
      "source": [
        "import matplotlib.pyplot as plt\n",
        "data = [1, 2, 2, 3, 3, 3, 4, 4, 5]\n",
        "plt.hist(data, bins=5)\n",
        "plt.show()"
      ],
      "metadata": {
        "colab": {
          "base_uri": "https://localhost:8080/",
          "height": 430
        },
        "id": "qO56R6goQMc9",
        "outputId": "8950d9d9-4d4d-4692-fb0c-8efeb918857f"
      },
      "execution_count": null,
      "outputs": [
        {
          "output_type": "display_data",
          "data": {
            "text/plain": [
              "<Figure size 640x480 with 1 Axes>"
            ],
            "image/png": "[encoded data removed]"
          },
          "metadata": {}
        }
      ]
    },
    {
      "cell_type": "markdown",
      "source": [
        "###7. Calculate skewness and kurtosis of a dataset using Python libraries."
      ],
      "metadata": {
        "id": "hoB5Nf6hQVPe"
      }
    },
    {
      "cell_type": "code",
      "source": [
        "from scipy.stats import skew, kurtosis\n",
        "data = [1, 2, 2, 3, 3, 3, 4, 4, 5]\n",
        "print(f\"Skewness: {skew(data)}, Kurtosis: {kurtosis(data)}\")"
      ],
      "metadata": {
        "colab": {
          "base_uri": "https://localhost:8080/"
        },
        "id": "1C6PRBoFQdPs",
        "outputId": "9f9dacb5-3269-4311-8537-5025a01baa7e"
      },
      "execution_count": null,
      "outputs": [
        {
          "output_type": "stream",
          "name": "stdout",
          "text": [
            "Skewness: 0.0, Kurtosis: -0.75\n"
          ]
        }
      ]
    },
    {
      "cell_type": "markdown",
      "source": [
        "###8. Generate a dataset and demonstrate positive and negative skewness."
      ],
      "metadata": {
        "id": "eLVjcXZUQ00l"
      }
    },
    {
      "cell_type": "code",
      "source": [
        "import numpy as np\n",
        "import matplotlib.pyplot as plt\n",
        "from scipy.stats import skew\n",
        "\n",
        "# Generate positively skewed data (right-skewed)\n",
        "positive_skew_data = np.random.exponential(scale=1, size=1000)\n",
        "\n",
        "# Generate negatively skewed data (left-skewed)\n",
        "negative_skew_data = np.random.beta(a=5, b=2, size=1000)  # α=5, β=2"
      ],
      "metadata": {
        "id": "fqLV05g0R9LV"
      },
      "execution_count": null,
      "outputs": []
    },
    {
      "cell_type": "code",
      "source": [
        "# Plot histograms\n",
        "fig, axes = plt.subplots(1, 2, figsize=(12, 4))\n",
        "\n",
        "# Positive skew\n",
        "axes[0].hist(positive_skew_data, bins=30, color='skyblue', edgecolor='black')\n",
        "axes[0].set_title(f\"Positive Skew (Skewness = {skew(positive_skew_data):.2f})\")\n",
        "axes[0].set_xlabel(\"Value\")\n",
        "axes[0].set_ylabel(\"Frequency\")\n",
        "\n",
        "# Negative skew\n",
        "axes[1].hist(negative_skew_data, bins=30, color='salmon', edgecolor='black')\n",
        "axes[1].set_title(f\"Negative Skew (Skewness = {skew(negative_skew_data):.2f})\")\n",
        "axes[1].set_xlabel(\"Value\")\n",
        "\n",
        "plt.tight_layout()\n",
        "plt.show()"
      ],
      "metadata": {
        "colab": {
          "base_uri": "https://localhost:8080/",
          "height": 226
        },
        "id": "UA8qtPimSAtp",
        "outputId": "848e5006-99d2-4b6c-bd45-6fa5e82cad9f"
      },
      "execution_count": null,
      "outputs": [
        {
          "output_type": "display_data",
          "data": {
            "text/plain": [
              "<Figure size 1200x400 with 2 Axes>"
            ],
            "image/png": "[encoded data removed]"
          },
          "metadata": {}
        }
      ]
    },
    {
      "cell_type": "code",
      "source": [
        "print(f\"Positive Skewness: {skew(positive_skew_data):.2f}\")\n",
        "print(f\"Negative Skewness: {skew(negative_skew_data):.2f}\")"
      ],
      "metadata": {
        "colab": {
          "base_uri": "https://localhost:8080/"
        },
        "id": "LL00bDUhSJ1A",
        "outputId": "70b555a9-a0b0-49e9-cb48-289e02119204"
      },
      "execution_count": null,
      "outputs": [
        {
          "output_type": "stream",
          "name": "stdout",
          "text": [
            "Positive Skewness: 2.31\n",
            "Negative Skewness: -0.66\n"
          ]
        }
      ]
    },
    {
      "cell_type": "markdown",
      "source": [
        "###9. Write a Python script to calculate covariance between two datasets."
      ],
      "metadata": {
        "id": "ucg8D2zFUxT2"
      }
    },
    {
      "cell_type": "code",
      "source": [
        "import numpy as np\n",
        "x = [1, 2, 3, 4, 5]\n",
        "y = [5, 4, 3, 2, 1]\n",
        "covariance = np.cov(x, y)[0, 1]\n",
        "print(f\"Covariance: {covariance}\")"
      ],
      "metadata": {
        "colab": {
          "base_uri": "https://localhost:8080/"
        },
        "id": "mTgUpyy_U5IL",
        "outputId": "31f87c74-4277-4f38-8f5e-f11cd0f8789b"
      },
      "execution_count": null,
      "outputs": [
        {
          "output_type": "stream",
          "name": "stdout",
          "text": [
            "Covariance: -2.5\n"
          ]
        }
      ]
    },
    {
      "cell_type": "markdown",
      "source": [
        "###10. Write a Python script to calculate the correlation coefficient between two datasets."
      ],
      "metadata": {
        "id": "e7tAV4-5U-mM"
      }
    },
    {
      "cell_type": "code",
      "source": [
        "import numpy as np\n",
        "x = [1, 2, 3, 4, 5]\n",
        "y = [5, 4, 3, 2, 1]\n",
        "corr = np.corrcoef(x, y)[0, 1]\n",
        "print(f\"Correlation: {corr}\")"
      ],
      "metadata": {
        "colab": {
          "base_uri": "https://localhost:8080/"
        },
        "id": "zc5H523MVFwL",
        "outputId": "67f5ce70-7aac-4a77-d63f-466c8819464f"
      },
      "execution_count": null,
      "outputs": [
        {
          "output_type": "stream",
          "name": "stdout",
          "text": [
            "Correlation: -0.9999999999999999\n"
          ]
        }
      ]
    },
    {
      "cell_type": "markdown",
      "source": [
        "###11. Create a scatter plot to visualize the relationship between two variables."
      ],
      "metadata": {
        "id": "Tezg165CVQ3U"
      }
    },
    {
      "cell_type": "code",
      "source": [
        "import matplotlib.pyplot as plt\n",
        "plt.scatter(x, y)\n",
        "plt.xlabel('X')\n",
        "plt.ylabel('Y')\n",
        "plt.show()"
      ],
      "metadata": {
        "colab": {
          "base_uri": "https://localhost:8080/",
          "height": 449
        },
        "id": "9uaNnZpgVXpL",
        "outputId": "a900bf3b-3432-4215-ca25-7e820ccfbff5"
      },
      "execution_count": null,
      "outputs": [
        {
          "output_type": "display_data",
          "data": {
            "text/plain": [
              "<Figure size 640x480 with 1 Axes>"
            ],
            "image/png": "[encoded data removed]"
          },
          "metadata": {}
        }
      ]
    },
    {
      "cell_type": "markdown",
      "source": [
        "###12. Implement and compare simple random sampling and systematic sampling."
      ],
      "metadata": {
        "id": "NWZfm_D7V-B0"
      }
    },
    {
      "cell_type": "code",
      "source": [
        "import numpy as np\n",
        "import pandas as pd\n",
        "import random\n",
        "\n",
        "# Step 1: Generate a synthetic population of 1000 individuals with ages (mean=50, std=10)\n",
        "np.random.seed(42)\n",
        "population_size = 1000\n",
        "population = pd.DataFrame({\n",
        "    'ID': range(1, population_size + 1),\n",
        "    'Age': np.random.normal(loc=50, scale=10, size=population_size).round(0)\n",
        "})\n",
        "\n",
        "# Step 2: Define sampling functions\n",
        "def simple_random_sampling(data, sample_size):\n",
        "    return data.sample(n=sample_size, random_state=42)\n",
        "\n",
        "def systematic_sampling(data, sample_size):\n",
        "    k = len(data) // sample_size\n",
        "    start = random.randint(1, k)\n",
        "    indices = np.arange(start, len(data), k)\n",
        "    return data.iloc[indices[:sample_size]]\n",
        "\n",
        "# Step 3: Draw samples (sample size = 100)\n",
        "sample_size = 100\n",
        "srs_sample = simple_random_sampling(population, sample_size)\n",
        "sys_sample = systematic_sampling(population, sample_size)\n",
        "\n",
        "# Step 4: Compare the samples\n",
        "population_stats = {\n",
        "    'Mean Age': population['Age'].mean(),\n",
        "    'Std Dev Age': population['Age'].std()\n",
        "}\n",
        "\n",
        "srs_stats = {\n",
        "    'Mean Age': srs_sample['Age'].mean(),\n",
        "    'Std Dev Age': srs_sample['Age'].std()\n",
        "}\n",
        "\n",
        "sys_stats = {\n",
        "    'Mean Age': sys_sample['Age'].mean(),\n",
        "    'Std Dev Age': sys_sample['Age'].std()\n",
        "}\n",
        "\n",
        "# Step 5: Create a comparison table\n",
        "comparison = pd.DataFrame({\n",
        "    'Population': population_stats,\n",
        "    'Simple Random Sampling': srs_stats,\n",
        "    'Systematic Sampling': sys_stats\n",
        "}).T\n",
        "\n",
        "print(\"Comparison of Population vs. Sampling Methods:\")\n",
        "print(comparison)"
      ],
      "metadata": {
        "id": "dm96yqVXWG2j",
        "colab": {
          "base_uri": "https://localhost:8080/"
        },
        "outputId": "85c384e1-9a2f-4a91-89ed-a35fbfa539a5"
      },
      "execution_count": null,
      "outputs": [
        {
          "output_type": "stream",
          "name": "stdout",
          "text": [
            "Comparison of Population vs. Sampling Methods:\n",
            "                         Mean Age  Std Dev Age\n",
            "Population              50.201000     9.813200\n",
            "Simple Random Sampling  50.030000     9.270846\n",
            "Systematic Sampling     49.979798     8.952231\n"
          ]
        }
      ]
    },
    {
      "cell_type": "markdown",
      "source": [
        "###13.calculate the mean, median, and mode of grouped data."
      ],
      "metadata": {
        "id": "LGUoS5J4dk3c"
      }
    },
    {
      "cell_type": "code",
      "source": [
        "#mean\n",
        "a = [1, 3, 3, 4, 5]\n",
        "import numpy as np\n",
        "np.mean(a)"
      ],
      "metadata": {
        "colab": {
          "base_uri": "https://localhost:8080/"
        },
        "outputId": "7bf9ca97-d8f9-4821-e1ea-a73d2317fb20",
        "id": "4XXockgk6KOC"
      },
      "execution_count": 7,
      "outputs": [
        {
          "output_type": "execute_result",
          "data": {
            "text/plain": [
              "np.float64(3.2)"
            ]
          },
          "metadata": {},
          "execution_count": 7
        }
      ]
    },
    {
      "cell_type": "code",
      "source": [
        "#median\n",
        "np.median(a)\n"
      ],
      "metadata": {
        "colab": {
          "base_uri": "https://localhost:8080/"
        },
        "id": "r-Wv0xae6NQn",
        "outputId": "e488493b-8942-4989-826d-d4dbb2495e67"
      },
      "execution_count": 8,
      "outputs": [
        {
          "output_type": "execute_result",
          "data": {
            "text/plain": [
              "np.float64(3.0)"
            ]
          },
          "metadata": {},
          "execution_count": 8
        }
      ]
    },
    {
      "cell_type": "code",
      "source": [
        "#mode\n",
        "import statistics\n",
        "statistics.mode(a)"
      ],
      "metadata": {
        "colab": {
          "base_uri": "https://localhost:8080/"
        },
        "id": "T4NiT5rY6VvY",
        "outputId": "53fa0b08-1ab6-4d12-d18f-6f0942d3a1ce"
      },
      "execution_count": 9,
      "outputs": [
        {
          "output_type": "execute_result",
          "data": {
            "text/plain": [
              "3"
            ]
          },
          "metadata": {},
          "execution_count": 9
        }
      ]
    },
    {
      "cell_type": "markdown",
      "source": [
        "###14. Simulate data using Python and calculate its central tendency and dispersion."
      ],
      "metadata": {
        "id": "E-hcOXLe6e4w"
      }
    },
    {
      "cell_type": "code",
      "source": [
        "import numpy as np\n",
        "data = np.random.normal(50, 10, 100)\n",
        "print(f\"Mean: {np.mean(data)}, SD: {np.std(data)}\")"
      ],
      "metadata": {
        "colab": {
          "base_uri": "https://localhost:8080/"
        },
        "id": "VtnzHihaHfAo",
        "outputId": "5720412f-a3b8-4f57-c986-997cc05c7042"
      },
      "execution_count": 10,
      "outputs": [
        {
          "output_type": "stream",
          "name": "stdout",
          "text": [
            "Mean: 48.775783378258964, SD: 8.852005672617729\n"
          ]
        }
      ]
    },
    {
      "cell_type": "markdown",
      "source": [
        "###15.Use NumPy or pandas to summarize a dataset’s descriptive statistics."
      ],
      "metadata": {
        "id": "YFlsUANZHmy_"
      }
    },
    {
      "cell_type": "code",
      "source": [
        "import pandas as pd\n",
        "df = pd.read_csv(\"services.csv.csv\")\n",
        "summary = df.describe()"
      ],
      "metadata": {
        "id": "lmBH-PQxHrwH"
      },
      "execution_count": 15,
      "outputs": []
    },
    {
      "cell_type": "markdown",
      "source": [
        "###16. Plot a boxplot to understand the spread and identify outliers."
      ],
      "metadata": {
        "id": "oOYy7_qIITrH"
      }
    },
    {
      "cell_type": "code",
      "source": [
        "# Import necessary libraries\n",
        "import matplotlib.pyplot as plt\n",
        "import seaborn as sns\n",
        "\n",
        "# Load or define your DataFrame (example)\n",
        "import pandas as pd\n",
        "df = pd.DataFrame({\n",
        "    'Values': [10, 12, 15, 18, 20, 22, 25, 28, 30, 100]  # 100 is an outlier\n",
        "})\n",
        "\n",
        "# Plot the boxplot\n",
        "sns.boxplot(data=df, x='Values')\n",
        "plt.title(\"Boxplot to Identify Outliers\")\n",
        "plt.show()"
      ],
      "metadata": {
        "colab": {
          "base_uri": "https://localhost:8080/",
          "height": 472
        },
        "id": "sgl97r6dI_Lw",
        "outputId": "b0b82776-f4c9-4759-c799-944c76bdd505"
      },
      "execution_count": 17,
      "outputs": [
        {
          "output_type": "display_data",
          "data": {
            "text/plain": [
              "<Figure size 640x480 with 1 Axes>"
            ],
            "image/png": "[encoded data removed]"
          },
          "metadata": {}
        }
      ]
    },
    {
      "cell_type": "markdown",
      "source": [
        "###17. Calculate the interquartile range (IQR) of a dataset."
      ],
      "metadata": {
        "id": "oDhpIiM_JJV4"
      }
    },
    {
      "cell_type": "code",
      "source": [
        "q1 = np.percentile(data, 25)\n",
        "q3 = np.percentile(data, 75)\n",
        "iqr = q3 - q1"
      ],
      "metadata": {
        "id": "gW0z-yD1JOvA"
      },
      "execution_count": 18,
      "outputs": []
    },
    {
      "cell_type": "markdown",
      "source": [
        "###18. Implement Z-score normalization and explain its significance."
      ],
      "metadata": {
        "id": "8LLqwM_1JTsH"
      }
    },
    {
      "cell_type": "code",
      "source": [
        "z_scores = (data - np.mean(data)) / np.std(data)"
      ],
      "metadata": {
        "id": "ec200TYTJZ0n"
      },
      "execution_count": 19,
      "outputs": []
    },
    {
      "cell_type": "markdown",
      "source": [
        "###19.Compare two datasets using their standard deviations."
      ],
      "metadata": {
        "id": "1fG7PB-LJhqI"
      }
    },
    {
      "cell_type": "code",
      "source": [
        "import numpy as np\n",
        "import matplotlib.pyplot as plt\n",
        "\n",
        "# Step 1: Generate two datasets with different spreads\n",
        "np.random.seed(42)  # For reproducibility\n",
        "\n",
        "# Dataset 1: Low spread (SD ~5)\n",
        "data1 = np.random.normal(loc=50, scale=5, size=100)  # Mean=50, SD=5\n",
        "\n",
        "# Dataset 2: High spread (SD ~15)\n",
        "data2 = np.random.normal(loc=50, scale=15, size=100)  # Mean=50, SD=15\n",
        "\n",
        "# Step 2: Calculate standard deviations\n",
        "sd1 = np.std(data1, ddof=1)  # Sample SD for data1\n",
        "sd2 = np.std(data2, ddof=1)  # Sample SD for data2\n",
        "\n",
        "# Step 3: Compare SDs\n",
        "print(f\"Dataset 1 SD: {sd1:.2f}\")\n",
        "print(f\"Dataset 2 SD: {sd2:.2f}\")\n",
        "\n",
        "# Step 4: Visualize distributions\n",
        "plt.figure(figsize=(10, 5))\n",
        "plt.hist(data1, bins=20, alpha=0.5, label='Dataset 1 (Low SD)')\n",
        "plt.hist(data2, bins=20, alpha=0.5, label='Dataset 2 (High SD)')\n",
        "plt.axvline(np.mean(data1), color='blue', linestyle='dashed', linewidth=2)\n",
        "plt.axvline(np.mean(data2), color='orange', linestyle='dashed', linewidth=2)\n",
        "plt.xlabel('Values')\n",
        "plt.ylabel('Frequency')\n",
        "plt.legend()\n",
        "plt.title('Comparison of Dataset Spreads')\n",
        "plt.show()"
      ],
      "metadata": {
        "colab": {
          "base_uri": "https://localhost:8080/",
          "height": 523
        },
        "id": "qDutkszdKDw3",
        "outputId": "ba07f271-9053-440f-b13a-4e0d430a2616"
      },
      "execution_count": 20,
      "outputs": [
        {
          "output_type": "stream",
          "name": "stdout",
          "text": [
            "Dataset 1 SD: 4.54\n",
            "Dataset 2 SD: 14.31\n"
          ]
        },
        {
          "output_type": "display_data",
          "data": {
            "text/plain": [
              "<Figure size 1000x500 with 1 Axes>"
            ],
            "image/png": "[encoded data removed]"
          },
          "metadata": {}
        }
      ]
    },
    {
      "cell_type": "markdown",
      "source": [
        "###20. Write a Python program to visualize covariance using a heatmap."
      ],
      "metadata": {
        "id": "HkyOK2oaKIvZ"
      }
    },
    {
      "cell_type": "code",
      "source": [
        "sns.heatmap(df.cov(), annot=True)\n",
        "plt.show()"
      ],
      "metadata": {
        "colab": {
          "base_uri": "https://localhost:8080/",
          "height": 430
        },
        "id": "66UhUsTWKO_4",
        "outputId": "55d8820f-2c47-4ccb-d1ff-ef61589f737b"
      },
      "execution_count": 21,
      "outputs": [
        {
          "output_type": "display_data",
          "data": {
            "text/plain": [
              "<Figure size 640x480 with 2 Axes>"
            ],
            "image/png": "[encoded data removed]"
          },
          "metadata": {}
        }
      ]
    },
    {
      "cell_type": "markdown",
      "source": [
        "###21. Use seaborn to create a correlation matrix for a dataset."
      ],
      "metadata": {
        "id": "5d8XVSZpKVDY"
      }
    },
    {
      "cell_type": "code",
      "source": [
        "import seaborn as sns\n",
        "import matplotlib.pyplot as plt\n",
        "import pandas as pd\n",
        "\n",
        "# Create a sample dataset\n",
        "data = {\n",
        "    'A': [1, 2, 3, 4, 5],\n",
        "    'B': [5, 4, 3, 2, 1],\n",
        "    'C': [2, 3, 1, 5, 4]\n",
        "}\n",
        "df = pd.DataFrame(data)\n",
        "\n",
        "# Compute correlation matrix\n",
        "corr_matrix = df.corr()\n",
        "\n",
        "# Plot heatmap\n",
        "plt.figure(figsize=(8, 6))\n",
        "sns.heatmap(corr_matrix, annot=True, cmap='coolwarm', fmt=\".2f\")\n",
        "plt.title(\"Correlation Matrix\")\n",
        "plt.show()"
      ],
      "metadata": {
        "colab": {
          "base_uri": "https://localhost:8080/",
          "height": 545
        },
        "id": "r5MFxSKVKZbZ",
        "outputId": "66b8ca36-97bb-475d-be5b-19d9196b6d7c"
      },
      "execution_count": 23,
      "outputs": [
        {
          "output_type": "display_data",
          "data": {
            "text/plain": [
              "<Figure size 800x600 with 2 Axes>"
            ],
            "image/png": "[encoded data removed]"
          },
          "metadata": {}
        }
      ]
    },
    {
      "cell_type": "markdown",
      "source": [
        "###22. Generate a dataset and implement both variance and standard deviation computations."
      ],
      "metadata": {
        "id": "XDMI56goK4NJ"
      }
    },
    {
      "cell_type": "code",
      "source": [
        "import numpy as np\n",
        "\n",
        "# Generate dataset (mean=50, SD=10)\n",
        "data = np.random.normal(50, 10, 100)\n",
        "\n",
        "# Method 1: Using numpy\n",
        "variance_np = np.var(data, ddof=1)  # Sample variance\n",
        "sd_np = np.std(data, ddof=1)        # Sample SD\n",
        "\n",
        "# Method 2: Manual calculation\n",
        "mean = np.mean(data)\n",
        "squared_diff = [(x - mean)**2 for x in data]\n",
        "variance_manual = sum(squared_diff) / (len(data) - 1)\n",
        "sd_manual = np.sqrt(variance_manual)\n",
        "\n",
        "print(f\"Numpy Variance: {variance_np:.2f}, Manual Variance: {variance_manual:.2f}\")\n",
        "print(f\"Numpy SD: {sd_np:.2f}, Manual SD: {sd_manual:.2f}\")"
      ],
      "metadata": {
        "colab": {
          "base_uri": "https://localhost:8080/"
        },
        "id": "athRHSqQK-d_",
        "outputId": "0df97188-58c5-4120-e6ec-13900aca279e"
      },
      "execution_count": 24,
      "outputs": [
        {
          "output_type": "stream",
          "name": "stdout",
          "text": [
            "Numpy Variance: 117.57, Manual Variance: 117.57\n",
            "Numpy SD: 10.84, Manual SD: 10.84\n"
          ]
        }
      ]
    },
    {
      "cell_type": "markdown",
      "source": [
        "###23. Visualize skewness and kurtosis using Python libraries like matplotlib or seaborn."
      ],
      "metadata": {
        "id": "sZMbn6-8LJAp"
      }
    },
    {
      "cell_type": "code",
      "source": [
        "from scipy.stats import skew, kurtosis\n",
        "import seaborn as sns\n",
        "\n",
        "# Generate skewed and high-kurtosis data\n",
        "skewed_data = np.random.exponential(scale=2, size=1000)  # Positive skew\n",
        "high_kurtosis_data = np.random.laplace(loc=0, scale=1, size=1000)  # Heavy tails\n",
        "\n",
        "# Plot\n",
        "fig, axes = plt.subplots(1, 2, figsize=(12, 4))\n",
        "\n",
        "# Skewness\n",
        "sns.histplot(skewed_data, kde=True, ax=axes[0])\n",
        "axes[0].set_title(f\"Skewness: {skew(skewed_data):.2f}\")\n",
        "\n",
        "# Kurtosis\n",
        "sns.histplot(high_kurtosis_data, kde=True, ax=axes[1])\n",
        "axes[1].set_title(f\"Kurtosis: {kurtosis(high_kurtosis_data):.2f}\")\n",
        "\n",
        "plt.show()"
      ],
      "metadata": {
        "colab": {
          "base_uri": "https://localhost:8080/",
          "height": 391
        },
        "id": "tc2uBuFtLO1I",
        "outputId": "fc7ccbe4-afb7-482f-8e86-7fba6d09e4ee"
      },
      "execution_count": 25,
      "outputs": [
        {
          "output_type": "display_data",
          "data": {
            "text/plain": [
              "<Figure size 1200x400 with 2 Axes>"
            ],
            "image/png": "[encoded data removed]"
          },
          "metadata": {}
        }
      ]
    },
    {
      "cell_type": "markdown",
      "source": [
        "###24. Implement the Pearson and Spearman correlation coefficients for a dataset."
      ],
      "metadata": {
        "id": "GfGgm033LRM4"
      }
    },
    {
      "cell_type": "code",
      "source": [
        "from scipy.stats import pearsonr, spearmanr\n",
        "\n",
        "# Create dataset with linear and monotonic relationships\n",
        "x = [1, 2, 3, 4, 5]\n",
        "y_linear = [2, 4, 6, 8, 10]        # Perfect linear\n",
        "y_monotonic = [1, 3, 2, 5, 4]      # Monotonic but non-linear\n",
        "\n",
        "# Calculate coefficients\n",
        "pearson_linear = pearsonr(x, y_linear)[0]\n",
        "spearman_linear = spearmanr(x, y_linear)[0]\n",
        "\n",
        "pearson_monotonic = pearsonr(x, y_monotonic)[0]\n",
        "spearman_monotonic = spearmanr(x, y_monotonic)[0]\n",
        "\n",
        "print(\"Linear Relationship:\")\n",
        "print(f\"Pearson: {pearson_linear:.2f}, Spearman: {spearman_linear:.2f}\")\n",
        "\n",
        "print(\"\\nMonotonic Relationship:\")\n",
        "print(f\"Pearson: {pearson_monotonic:.2f}, Spearman: {spearman_monotonic:.2f}\")"
      ],
      "metadata": {
        "colab": {
          "base_uri": "https://localhost:8080/"
        },
        "id": "2hYkqa4xLVcX",
        "outputId": "4fb412cb-54dc-4e9a-c1d0-a3052b53e91e"
      },
      "execution_count": 26,
      "outputs": [
        {
          "output_type": "stream",
          "name": "stdout",
          "text": [
            "Linear Relationship:\n",
            "Pearson: 1.00, Spearman: 1.00\n",
            "\n",
            "Monotonic Relationship:\n",
            "Pearson: 0.80, Spearman: 0.80\n"
          ]
        }
      ]
    },
    {
      "cell_type": "markdown",
      "source": [
        "##THANK YOU:)"
      ],
      "metadata": {
        "id": "9rWE_IgZLY3X"
      }
    }
  ]
}